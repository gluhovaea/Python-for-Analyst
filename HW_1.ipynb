{
  "nbformat": 4,
  "nbformat_minor": 0,
  "metadata": {
    "colab": {
      "name": "HW-1.ipynb",
      "provenance": [],
      "toc_visible": true,
      "authorship_tag": "ABX9TyMoudsIjCOssT8tPU02E4t6",
      "include_colab_link": true
    },
    "kernelspec": {
      "name": "python3",
      "display_name": "Python 3"
    },
    "language_info": {
      "name": "python"
    }
  },
  "cells": [
    {
      "cell_type": "markdown",
      "metadata": {
        "id": "view-in-github",
        "colab_type": "text"
      },
      "source": [
        "<a href=\"https://colab.research.google.com/github/gluhovaea/Python-for-Analyst/blob/main/HW_1.ipynb\" target=\"_parent\"><img src=\"https://colab.research.google.com/assets/colab-badge.svg\" alt=\"Open In Colab\"/></a>"
      ]
    },
    {
      "cell_type": "markdown",
      "source": [
        "## Домашнее задание к уроку 1"
      ],
      "metadata": {
        "id": "gbVX1D8hn_JK"
      }
    },
    {
      "cell_type": "markdown",
      "source": [
        " **1**. Написать цикл для выведения на экран каждой буквы своего ФИО."
      ],
      "metadata": {
        "id": "YgW0QUnpf1aW"
      }
    },
    {
      "cell_type": "code",
      "source": [
        "# Написать цикл для выведения на экран каждой буквы своего ФИО\n",
        "name = input('Введите своё ФИО >>> ').title()\n",
        "for el in name:\n",
        "  print(el)\n",
        "\n",
        "  "
      ],
      "metadata": {
        "colab": {
          "base_uri": "https://localhost:8080/"
        },
        "id": "jEZAhkkYhMqA",
        "outputId": "ddcac6c2-dda1-48f1-a166-649f789ac325"
      },
      "execution_count": null,
      "outputs": [
        {
          "output_type": "stream",
          "name": "stdout",
          "text": [
            "Введите своё ФИО >>> Глухова Елена Алексеевна\n",
            "Г\n",
            "л\n",
            "у\n",
            "х\n",
            "о\n",
            "в\n",
            "а\n",
            " \n",
            "Е\n",
            "л\n",
            "е\n",
            "н\n",
            "а\n",
            " \n",
            "А\n",
            "л\n",
            "е\n",
            "к\n",
            "с\n",
            "е\n",
            "е\n",
            "в\n",
            "н\n",
            "а\n"
          ]
        }
      ]
    },
    {
      "cell_type": "markdown",
      "source": [
        "**2**. Написать функцию для нахождения одинаковых элементов в двух списках"
      ],
      "metadata": {
        "id": "QleuwNJFpaVD"
      }
    },
    {
      "cell_type": "code",
      "source": [
        "# Написать функцию для нахождения одинаковых элементов в двух списках\n",
        "def same_element_func(l1: [], l2: [], l3: []):\n",
        "    for x in l1:\n",
        "        if x in l3:\n",
        "            continue\n",
        "        for y in l2:\n",
        "            if x == y:\n",
        "                l3.append(x)\n",
        "                break\n",
        "\n",
        "    print(l3)\n",
        "\n",
        "\n",
        "list1 = [7, [1, 2], 2, 'q', 4, 'ee', 'ee']\n",
        "list2 = [4, 'we', 'ee', 3, [1, 2]]\n",
        "list3 = []\n",
        "\n",
        "same_element_func(list1, list2, list3)\n"
      ],
      "metadata": {
        "colab": {
          "base_uri": "https://localhost:8080/"
        },
        "id": "JK3noRJ4MEbS",
        "outputId": "0336c4cd-ecef-45b4-fc81-2fec472d63de"
      },
      "execution_count": null,
      "outputs": [
        {
          "output_type": "stream",
          "name": "stdout",
          "text": [
            "[[1, 2], 4, 'ee']\n"
          ]
        }
      ]
    },
    {
      "cell_type": "markdown",
      "source": [
        "**3.** Написать функцию для перевода доллара в евро c округлением до 2х знаков после запятой, если известно, что текущий курс составляет 1.17 долларов за один евро."
      ],
      "metadata": {
        "id": "HfFQc3qFMrpM"
      }
    },
    {
      "cell_type": "code",
      "source": [
        "# Написать функцию для перевода доллара в евро c округлением до 2х знаков после запятой, \n",
        "# если известно, что текущий курс составляет 1.17 долларов за один евро\n",
        "def dollars_to_euro(idx=1.17):\n",
        "    flag = True\n",
        "    while flag:\n",
        "        try:\n",
        "            dollars = input('Введите количество долларов >>> ')\n",
        "            if dollars == 'q':\n",
        "                print('До свидания!')\n",
        "                flag = False\n",
        "            euro = round(float(dollars) / idx, 2)\n",
        "            print(f\"Вы получите: {euro} евро.\")\n",
        "            flag = False\n",
        "\n",
        "        except ValueError:\n",
        "            print(f\"Неправильный формат. Попробуйте ещё раз.\\nДля выхода нажмите 'q'\")\n",
        "\n",
        "\n",
        "dollars_to_euro()\n",
        "\n"
      ],
      "metadata": {
        "colab": {
          "base_uri": "https://localhost:8080/"
        },
        "id": "cxSulIsUPp0C",
        "outputId": "a62a1f3a-b364-4295-88ab-629fa87f9fd1"
      },
      "execution_count": null,
      "outputs": [
        {
          "output_type": "stream",
          "name": "stdout",
          "text": [
            "Введите количество долларов >>> тысяча\n",
            "Неправильный формат. Попробуйте ещё раз.\n",
            "Для выхода нажмите 'q'\n",
            "Введите количество долларов >>> 50,20\n",
            "Неправильный формат. Попробуйте ещё раз.\n",
            "Для выхода нажмите 'q'\n",
            "Введите количество долларов >>> 150.00\n",
            "Вы получите: 128.21 евро.\n"
          ]
        }
      ]
    },
    {
      "cell_type": "markdown",
      "source": [
        "**4.** Написать функцию, которая подсчитывает количество слов в предложении, которые содержат ‘a’ или ‘e’."
      ],
      "metadata": {
        "id": "hmJ30kjDU1zl"
      }
    },
    {
      "cell_type": "code",
      "source": [
        "# Написать функцию, которая подсчитывает количество слов в предложении, которые содержат ‘a’ или ‘e’\n",
        "def func_amount_words(sentence: str):\n",
        "    num_a_or_e = 0\n",
        "    for i in sentence.split():\n",
        "        if ('a' in i) or ('e' in i):\n",
        "            num_a_or_e += 1\n",
        "\n",
        "    print(num_a_or_e)\n",
        "\n",
        "\n",
        "result_sentence = \"My mom often dances and my dad really likes it.\"\n",
        "\n",
        "func_amount_words(result_sentence)\n",
        "\n",
        "# или просто через цикл\n",
        "my_sentence = \"My mom often dances and my dad really likes it.\"\n",
        "\n",
        "num_a_or_e = 0\n",
        "for i in my_sentence.split():\n",
        "    if ('a' in i) or ('e' in i):\n",
        "        num_a_or_e += 1\n",
        "\n",
        "print(num_a_or_e)\n",
        "# или более развернутый результат подсчета\n",
        "print(\"There are \" + str(num_a_or_e) + \" words.\")\n"
      ],
      "metadata": {
        "colab": {
          "base_uri": "https://localhost:8080/"
        },
        "id": "VvFBFg2dcavF",
        "outputId": "f7f2c453-08eb-499b-c732-17aba293266a"
      },
      "execution_count": null,
      "outputs": [
        {
          "output_type": "stream",
          "name": "stdout",
          "text": [
            "6\n",
            "6\n",
            "There are 6 words.\n"
          ]
        }
      ]
    }
  ]
}