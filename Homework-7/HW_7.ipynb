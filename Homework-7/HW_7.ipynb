{
  "nbformat": 4,
  "nbformat_minor": 0,
  "metadata": {
    "colab": {
      "name": "HW-7.ipynb",
      "provenance": [],
      "authorship_tag": "ABX9TyMhxMp6Z7N1ZMKs8Fl1vvtV"
    },
    "kernelspec": {
      "name": "python3",
      "display_name": "Python 3"
    },
    "language_info": {
      "name": "python"
    }
  },
  "cells": [
    {
      "cell_type": "markdown",
      "source": [
        "**1.** Взять все признаки из датасета load_boston(). Применить модель Random Forest."
      ],
      "metadata": {
        "id": "JSDZn1fZoe6U"
      }
    },
    {
      "cell_type": "code",
      "source": [
        "# импортируем нужные библиотеки\n",
        "from matplotlib import pyplot as plt\n",
        "%matplotlib inline\n",
        "import seaborn as sns\n",
        "import pandas as pd\n",
        "import numpy as np\n",
        "from sklearn.datasets import load_boston\n",
        "from sklearn.preprocessing import Normalizer, StandardScaler \n",
        "from sklearn.preprocessing import MinMaxScaler \n",
        "from sklearn.model_selection import train_test_split as tts\n",
        "from sklearn.linear_model import LinearRegression\n",
        "from sklearn.metrics import mean_absolute_error as mae, mean_squared_error as mse, r2_score as r2\n",
        "from sklearn.ensemble import RandomForestRegressor"
      ],
      "metadata": {
        "id": "Dd6A586moiPC"
      },
      "execution_count": null,
      "outputs": []
    },
    {
      "cell_type": "code",
      "source": [
        "# загружаем данные\n",
        "boston_data = load_boston()"
      ],
      "metadata": {
        "colab": {
          "base_uri": "https://localhost:8080/"
        },
        "id": "L3To5OB2opLh",
        "outputId": "a2a91006-c6c5-4a3a-e368-36e2158538b1"
      },
      "execution_count": null,
      "outputs": [
        {
          "output_type": "stream",
          "name": "stderr",
          "text": [
            "/usr/local/lib/python3.7/dist-packages/sklearn/utils/deprecation.py:87: FutureWarning: Function load_boston is deprecated; `load_boston` is deprecated in 1.0 and will be removed in 1.2.\n",
            "\n",
            "    The Boston housing prices dataset has an ethical problem. You can refer to\n",
            "    the documentation of this function for further details.\n",
            "\n",
            "    The scikit-learn maintainers therefore strongly discourage the use of this\n",
            "    dataset unless the purpose of the code is to study and educate about\n",
            "    ethical issues in data science and machine learning.\n",
            "\n",
            "    In this special case, you can fetch the dataset from the original\n",
            "    source::\n",
            "\n",
            "        import pandas as pd\n",
            "        import numpy as np\n",
            "\n",
            "\n",
            "        data_url = \"http://lib.stat.cmu.edu/datasets/boston\"\n",
            "        raw_df = pd.read_csv(data_url, sep=\"\\s+\", skiprows=22, header=None)\n",
            "        data = np.hstack([raw_df.values[::2, :], raw_df.values[1::2, :2]])\n",
            "        target = raw_df.values[1::2, 2]\n",
            "\n",
            "    Alternative datasets include the California housing dataset (i.e.\n",
            "    :func:`~sklearn.datasets.fetch_california_housing`) and the Ames housing\n",
            "    dataset. You can load the datasets as follows::\n",
            "\n",
            "        from sklearn.datasets import fetch_california_housing\n",
            "        housing = fetch_california_housing()\n",
            "\n",
            "    for the California housing dataset and::\n",
            "\n",
            "        from sklearn.datasets import fetch_openml\n",
            "        housing = fetch_openml(name=\"house_prices\", as_frame=True)\n",
            "\n",
            "    for the Ames housing dataset.\n",
            "    \n",
            "  warnings.warn(msg, category=FutureWarning)\n"
          ]
        }
      ]
    },
    {
      "cell_type": "code",
      "source": [
        "X = pd.DataFrame(boston_data.data, columns=boston_data.feature_names)\n",
        "y = boston_data.target\n",
        "\n",
        "X.head()"
      ],
      "metadata": {
        "colab": {
          "base_uri": "https://localhost:8080/",
          "height": 206
        },
        "id": "tjupk4YEosvP",
        "outputId": "9b47ab02-6ccb-4351-a2ad-44b39b94d7b2"
      },
      "execution_count": null,
      "outputs": [
        {
          "output_type": "execute_result",
          "data": {
            "text/plain": [
              "      CRIM    ZN  INDUS  CHAS    NOX     RM   AGE     DIS  RAD    TAX  \\\n",
              "0  0.00632  18.0   2.31   0.0  0.538  6.575  65.2  4.0900  1.0  296.0   \n",
              "1  0.02731   0.0   7.07   0.0  0.469  6.421  78.9  4.9671  2.0  242.0   \n",
              "2  0.02729   0.0   7.07   0.0  0.469  7.185  61.1  4.9671  2.0  242.0   \n",
              "3  0.03237   0.0   2.18   0.0  0.458  6.998  45.8  6.0622  3.0  222.0   \n",
              "4  0.06905   0.0   2.18   0.0  0.458  7.147  54.2  6.0622  3.0  222.0   \n",
              "\n",
              "   PTRATIO       B  LSTAT  \n",
              "0     15.3  396.90   4.98  \n",
              "1     17.8  396.90   9.14  \n",
              "2     17.8  392.83   4.03  \n",
              "3     18.7  394.63   2.94  \n",
              "4     18.7  396.90   5.33  "
            ],
            "text/html": [
              "\n",
              "  <div id=\"df-7eaeaf7c-1ffa-454c-a327-2746f33009de\">\n",
              "    <div class=\"colab-df-container\">\n",
              "      <div>\n",
              "<style scoped>\n",
              "    .dataframe tbody tr th:only-of-type {\n",
              "        vertical-align: middle;\n",
              "    }\n",
              "\n",
              "    .dataframe tbody tr th {\n",
              "        vertical-align: top;\n",
              "    }\n",
              "\n",
              "    .dataframe thead th {\n",
              "        text-align: right;\n",
              "    }\n",
              "</style>\n",
              "<table border=\"1\" class=\"dataframe\">\n",
              "  <thead>\n",
              "    <tr style=\"text-align: right;\">\n",
              "      <th></th>\n",
              "      <th>CRIM</th>\n",
              "      <th>ZN</th>\n",
              "      <th>INDUS</th>\n",
              "      <th>CHAS</th>\n",
              "      <th>NOX</th>\n",
              "      <th>RM</th>\n",
              "      <th>AGE</th>\n",
              "      <th>DIS</th>\n",
              "      <th>RAD</th>\n",
              "      <th>TAX</th>\n",
              "      <th>PTRATIO</th>\n",
              "      <th>B</th>\n",
              "      <th>LSTAT</th>\n",
              "    </tr>\n",
              "  </thead>\n",
              "  <tbody>\n",
              "    <tr>\n",
              "      <th>0</th>\n",
              "      <td>0.00632</td>\n",
              "      <td>18.0</td>\n",
              "      <td>2.31</td>\n",
              "      <td>0.0</td>\n",
              "      <td>0.538</td>\n",
              "      <td>6.575</td>\n",
              "      <td>65.2</td>\n",
              "      <td>4.0900</td>\n",
              "      <td>1.0</td>\n",
              "      <td>296.0</td>\n",
              "      <td>15.3</td>\n",
              "      <td>396.90</td>\n",
              "      <td>4.98</td>\n",
              "    </tr>\n",
              "    <tr>\n",
              "      <th>1</th>\n",
              "      <td>0.02731</td>\n",
              "      <td>0.0</td>\n",
              "      <td>7.07</td>\n",
              "      <td>0.0</td>\n",
              "      <td>0.469</td>\n",
              "      <td>6.421</td>\n",
              "      <td>78.9</td>\n",
              "      <td>4.9671</td>\n",
              "      <td>2.0</td>\n",
              "      <td>242.0</td>\n",
              "      <td>17.8</td>\n",
              "      <td>396.90</td>\n",
              "      <td>9.14</td>\n",
              "    </tr>\n",
              "    <tr>\n",
              "      <th>2</th>\n",
              "      <td>0.02729</td>\n",
              "      <td>0.0</td>\n",
              "      <td>7.07</td>\n",
              "      <td>0.0</td>\n",
              "      <td>0.469</td>\n",
              "      <td>7.185</td>\n",
              "      <td>61.1</td>\n",
              "      <td>4.9671</td>\n",
              "      <td>2.0</td>\n",
              "      <td>242.0</td>\n",
              "      <td>17.8</td>\n",
              "      <td>392.83</td>\n",
              "      <td>4.03</td>\n",
              "    </tr>\n",
              "    <tr>\n",
              "      <th>3</th>\n",
              "      <td>0.03237</td>\n",
              "      <td>0.0</td>\n",
              "      <td>2.18</td>\n",
              "      <td>0.0</td>\n",
              "      <td>0.458</td>\n",
              "      <td>6.998</td>\n",
              "      <td>45.8</td>\n",
              "      <td>6.0622</td>\n",
              "      <td>3.0</td>\n",
              "      <td>222.0</td>\n",
              "      <td>18.7</td>\n",
              "      <td>394.63</td>\n",
              "      <td>2.94</td>\n",
              "    </tr>\n",
              "    <tr>\n",
              "      <th>4</th>\n",
              "      <td>0.06905</td>\n",
              "      <td>0.0</td>\n",
              "      <td>2.18</td>\n",
              "      <td>0.0</td>\n",
              "      <td>0.458</td>\n",
              "      <td>7.147</td>\n",
              "      <td>54.2</td>\n",
              "      <td>6.0622</td>\n",
              "      <td>3.0</td>\n",
              "      <td>222.0</td>\n",
              "      <td>18.7</td>\n",
              "      <td>396.90</td>\n",
              "      <td>5.33</td>\n",
              "    </tr>\n",
              "  </tbody>\n",
              "</table>\n",
              "</div>\n",
              "      <button class=\"colab-df-convert\" onclick=\"convertToInteractive('df-7eaeaf7c-1ffa-454c-a327-2746f33009de')\"\n",
              "              title=\"Convert this dataframe to an interactive table.\"\n",
              "              style=\"display:none;\">\n",
              "        \n",
              "  <svg xmlns=\"http://www.w3.org/2000/svg\" height=\"24px\"viewBox=\"0 0 24 24\"\n",
              "       width=\"24px\">\n",
              "    <path d=\"M0 0h24v24H0V0z\" fill=\"none\"/>\n",
              "    <path d=\"M18.56 5.44l.94 2.06.94-2.06 2.06-.94-2.06-.94-.94-2.06-.94 2.06-2.06.94zm-11 1L8.5 8.5l.94-2.06 2.06-.94-2.06-.94L8.5 2.5l-.94 2.06-2.06.94zm10 10l.94 2.06.94-2.06 2.06-.94-2.06-.94-.94-2.06-.94 2.06-2.06.94z\"/><path d=\"M17.41 7.96l-1.37-1.37c-.4-.4-.92-.59-1.43-.59-.52 0-1.04.2-1.43.59L10.3 9.45l-7.72 7.72c-.78.78-.78 2.05 0 2.83L4 21.41c.39.39.9.59 1.41.59.51 0 1.02-.2 1.41-.59l7.78-7.78 2.81-2.81c.8-.78.8-2.07 0-2.86zM5.41 20L4 18.59l7.72-7.72 1.47 1.35L5.41 20z\"/>\n",
              "  </svg>\n",
              "      </button>\n",
              "      \n",
              "  <style>\n",
              "    .colab-df-container {\n",
              "      display:flex;\n",
              "      flex-wrap:wrap;\n",
              "      gap: 12px;\n",
              "    }\n",
              "\n",
              "    .colab-df-convert {\n",
              "      background-color: #E8F0FE;\n",
              "      border: none;\n",
              "      border-radius: 50%;\n",
              "      cursor: pointer;\n",
              "      display: none;\n",
              "      fill: #1967D2;\n",
              "      height: 32px;\n",
              "      padding: 0 0 0 0;\n",
              "      width: 32px;\n",
              "    }\n",
              "\n",
              "    .colab-df-convert:hover {\n",
              "      background-color: #E2EBFA;\n",
              "      box-shadow: 0px 1px 2px rgba(60, 64, 67, 0.3), 0px 1px 3px 1px rgba(60, 64, 67, 0.15);\n",
              "      fill: #174EA6;\n",
              "    }\n",
              "\n",
              "    [theme=dark] .colab-df-convert {\n",
              "      background-color: #3B4455;\n",
              "      fill: #D2E3FC;\n",
              "    }\n",
              "\n",
              "    [theme=dark] .colab-df-convert:hover {\n",
              "      background-color: #434B5C;\n",
              "      box-shadow: 0px 1px 3px 1px rgba(0, 0, 0, 0.15);\n",
              "      filter: drop-shadow(0px 1px 2px rgba(0, 0, 0, 0.3));\n",
              "      fill: #FFFFFF;\n",
              "    }\n",
              "  </style>\n",
              "\n",
              "      <script>\n",
              "        const buttonEl =\n",
              "          document.querySelector('#df-7eaeaf7c-1ffa-454c-a327-2746f33009de button.colab-df-convert');\n",
              "        buttonEl.style.display =\n",
              "          google.colab.kernel.accessAllowed ? 'block' : 'none';\n",
              "\n",
              "        async function convertToInteractive(key) {\n",
              "          const element = document.querySelector('#df-7eaeaf7c-1ffa-454c-a327-2746f33009de');\n",
              "          const dataTable =\n",
              "            await google.colab.kernel.invokeFunction('convertToInteractive',\n",
              "                                                     [key], {});\n",
              "          if (!dataTable) return;\n",
              "\n",
              "          const docLinkHtml = 'Like what you see? Visit the ' +\n",
              "            '<a target=\"_blank\" href=https://colab.research.google.com/notebooks/data_table.ipynb>data table notebook</a>'\n",
              "            + ' to learn more about interactive tables.';\n",
              "          element.innerHTML = '';\n",
              "          dataTable['output_type'] = 'display_data';\n",
              "          await google.colab.output.renderOutput(dataTable, element);\n",
              "          const docLink = document.createElement('div');\n",
              "          docLink.innerHTML = docLinkHtml;\n",
              "          element.appendChild(docLink);\n",
              "        }\n",
              "      </script>\n",
              "    </div>\n",
              "  </div>\n",
              "  "
            ]
          },
          "metadata": {},
          "execution_count": 3
        }
      ]
    },
    {
      "cell_type": "code",
      "source": [
        "X_train, X_test, y_train, y_test = tts(X, y, test_size = 0.20, shuffle = True, random_state = 42)"
      ],
      "metadata": {
        "id": "PhAxsPN7o39n"
      },
      "execution_count": null,
      "outputs": []
    },
    {
      "cell_type": "code",
      "source": [
        "# обучение модели\n",
        "model = RandomForestRegressor(random_state=42)\n",
        "\n",
        "model.fit(X_train, y_train)"
      ],
      "metadata": {
        "colab": {
          "base_uri": "https://localhost:8080/"
        },
        "id": "gSVG8v6Lo5Oz",
        "outputId": "42796c6e-6a96-4e1e-ae47-534811d9f6b0"
      },
      "execution_count": null,
      "outputs": [
        {
          "output_type": "execute_result",
          "data": {
            "text/plain": [
              "RandomForestRegressor(random_state=42)"
            ]
          },
          "metadata": {},
          "execution_count": 5
        }
      ]
    },
    {
      "cell_type": "markdown",
      "source": [
        "**2.** Рассчитайте MAE, MSE, R2 на тренировочной и тестовой выборке."
      ],
      "metadata": {
        "id": "uHJvqB_FpDVz"
      }
    },
    {
      "cell_type": "code",
      "source": [
        "# предсказания зависимой переменной у на тестовом и обучающем наборе\n",
        "y_train_pred = model.predict(X_train)\n",
        "y_test_pred = model.predict(X_test)\n",
        "\n",
        "# метрики качества на тестовом и обучающем множестве\n",
        "print('MAE train:', mae(y_train, y_train_pred))\n",
        "print('MAE test:', mae(y_test, y_test_pred))\n",
        "\n",
        "print('MSE train:', mse(y_train, y_train_pred))\n",
        "print('MSE test:', mse(y_test, y_test_pred))\n",
        "\n",
        "print('R2 train:', r2(y_train, y_train_pred))\n",
        "print('R2 test:', r2(y_test, y_test_pred))"
      ],
      "metadata": {
        "colab": {
          "base_uri": "https://localhost:8080/"
        },
        "id": "hJhKQnhmpHGO",
        "outputId": "9aa68d24-5c96-43ee-ae53-55b1c9199a69"
      },
      "execution_count": null,
      "outputs": [
        {
          "output_type": "stream",
          "name": "stdout",
          "text": [
            "MAE train: 0.903477722772276\n",
            "MAE test: 2.0395392156862746\n",
            "MSE train: 1.9783925024752465\n",
            "MSE test: 7.901513892156864\n",
            "R2 train: 0.9772267182453291\n",
            "R2 test: 0.8922527442109116\n"
          ]
        }
      ]
    },
    {
      "cell_type": "code",
      "source": [
        "plt.figure(figsize=(10,7))\n",
        "plt.scatter(y_test, y_test_pred)\n",
        "plt.plot([0,50], [0, 50], '--k', color='green', linewidth=3)\n",
        "plt.xlabel('Факт')\n",
        "plt.ylabel('Прогноз')\n",
        "plt.show()"
      ],
      "metadata": {
        "colab": {
          "base_uri": "https://localhost:8080/",
          "height": 442
        },
        "id": "5iFYkLyGpZ4g",
        "outputId": "10a35101-0908-46bd-ee89-d27661c7d667"
      },
      "execution_count": null,
      "outputs": [
        {
          "output_type": "display_data",
          "data": {
            "text/plain": [
              "<Figure size 720x504 with 1 Axes>"
            ],
            "image/png": "[encoded data removed]"
          },
          "metadata": {
            "needs_background": "light"
          }
        }
      ]
    },
    {
      "cell_type": "code",
      "source": [
        "# пробуем настроить гиперпараметры\n",
        "def fit_predict(train, test, y_train, y_test, criterion = 'squared_error', n_estimators = 100, max_depth = None, min_sample_split = 2): \n",
        "  rf = RandomForestRegressor(criterion=criterion, n_estimators=n_estimators, max_depth=max_depth)\n",
        "  rf.fit(train, y_train)\n",
        "  y_pred_train = rf.predict(train)\n",
        "  y_pred = rf.predict(test)\n",
        "  print('train', r2(y_train, y_pred_train), 'test', r2(y_test, y_pred))"
      ],
      "metadata": {
        "id": "RcvxN-Erpxez"
      },
      "execution_count": null,
      "outputs": []
    },
    {
      "cell_type": "markdown",
      "source": [
        "пайтон на criterion = 'mse' выдал ошибку что критерий mse устарел в версии 1.0 и будет удален в версии 1.2. Используйте 'criterion='squared_error', который эквивалентен.\n",
        "Поэтому заменила на criterion = 'squared_error'\n"
      ],
      "metadata": {
        "id": "HQpJT84Mqz0F"
      }
    },
    {
      "cell_type": "code",
      "source": [
        "# максимальная глубина деревьев\n",
        "for max_depth in range(2,21):\n",
        "  print('R^2 score using max_depth={0}:'.format(max_depth), end=' ')\n",
        "  fit_predict(X_train, X_test, y_train, y_test, max_depth = max_depth)"
      ],
      "metadata": {
        "colab": {
          "base_uri": "https://localhost:8080/"
        },
        "id": "1iTj3aEEqXRh",
        "outputId": "7a1295b9-047a-43af-e8d6-6dd66b59cc8a"
      },
      "execution_count": null,
      "outputs": [
        {
          "output_type": "stream",
          "name": "stdout",
          "text": [
            "R^2 score using max_depth=2: train 0.7583365930248543 test 0.7051925579738612\n",
            "R^2 score using max_depth=3: train 0.8701517598659052 test 0.8199021344140172\n",
            "R^2 score using max_depth=4: train 0.9117658111791328 test 0.8619407460760009\n",
            "R^2 score using max_depth=5: train 0.9343869296925865 test 0.87552136114995\n",
            "R^2 score using max_depth=6: train 0.9513166678153011 test 0.870587430615823\n",
            "R^2 score using max_depth=7: train 0.96013769431435 test 0.8727111096612162\n",
            "R^2 score using max_depth=8: train 0.9682487562894482 test 0.8791581739081106\n",
            "R^2 score using max_depth=9: train 0.9745799174910305 test 0.8783706567026036\n",
            "R^2 score using max_depth=10: train 0.9735461647782909 test 0.8803644328477689\n",
            "R^2 score using max_depth=11: train 0.9772040500379015 test 0.8896982587145897\n",
            "R^2 score using max_depth=12: train 0.9782662640991903 test 0.882059192839183\n",
            "R^2 score using max_depth=13: train 0.975144883507117 test 0.8879421702187642\n",
            "R^2 score using max_depth=14: train 0.9797077756864901 test 0.8779977111465012\n",
            "R^2 score using max_depth=15: train 0.9771574052282699 test 0.8856162394016918\n",
            "R^2 score using max_depth=16: train 0.9791407338886274 test 0.8821174268144311\n",
            "R^2 score using max_depth=17: train 0.9770282759622705 test 0.883347900287162\n",
            "R^2 score using max_depth=18: train 0.9782055065970583 test 0.877400947515401\n",
            "R^2 score using max_depth=19: train 0.9798942703919138 test 0.883186198534293\n",
            "R^2 score using max_depth=20: train 0.9761326457626744 test 0.874970654716066\n"
          ]
        }
      ]
    },
    {
      "cell_type": "code",
      "source": [
        "# минимальное число объектов, чтобы узел дерева расщепился\n",
        "for min_sample_split in range(5,51,5):\n",
        "  print('R^2 score using min_sample_leaf = {0}:'.format(min_sample_split), end = ' ')\n",
        "  fit_predict(X_train, X_test, y_train, y_test, max_depth=3, min_sample_split=min_sample_split)"
      ],
      "metadata": {
        "colab": {
          "base_uri": "https://localhost:8080/"
        },
        "id": "uefoWEk4r-BW",
        "outputId": "c8fc16c7-705f-4a63-b22a-c77e1de229f5"
      },
      "execution_count": null,
      "outputs": [
        {
          "output_type": "stream",
          "name": "stdout",
          "text": [
            "R^2 score using min_sample_leaf = 5: train 0.8680041061131967 test 0.8249581279757483\n",
            "R^2 score using min_sample_leaf = 10: train 0.871138911516526 test 0.8310981876148582\n",
            "R^2 score using min_sample_leaf = 15: train 0.8699345195070314 test 0.818796887121573\n",
            "R^2 score using min_sample_leaf = 20: train 0.8670627214899365 test 0.8173407891519633\n",
            "R^2 score using min_sample_leaf = 25: train 0.8675455372447105 test 0.8213924924350583\n",
            "R^2 score using min_sample_leaf = 30: train 0.8710404881447048 test 0.8237287115178974\n",
            "R^2 score using min_sample_leaf = 35: train 0.8677408087434614 test 0.8266308859772449\n",
            "R^2 score using min_sample_leaf = 40: train 0.8688055424277612 test 0.8303304040814823\n",
            "R^2 score using min_sample_leaf = 45: train 0.8706002550200054 test 0.8207900473726306\n",
            "R^2 score using min_sample_leaf = 50: train 0.8693309674926215 test 0.8325332203840649\n"
          ]
        }
      ]
    },
    {
      "cell_type": "code",
      "source": [
        "# критерий расщепления\n",
        "for criterion in ['squared_error', 'absolute_error']:  # опять пришлось заменить так как Criterion 'mae' was deprecated in v1.0 and will be removed in version 1.2. Use `criterion='absolute_error'` which is equivalent.\n",
        "  print('R^2 score using {0} criterion:'.format(criterion), end=' ')\n",
        "  fit_predict(X_train, X_test, y_train, y_test, max_depth=3, min_sample_split=15, criterion=criterion)"
      ],
      "metadata": {
        "colab": {
          "base_uri": "https://localhost:8080/"
        },
        "id": "wGv7Elk5sHfC",
        "outputId": "51ba9bdb-7979-4da9-c942-fd8cb038923e"
      },
      "execution_count": null,
      "outputs": [
        {
          "output_type": "stream",
          "name": "stdout",
          "text": [
            "R^2 score using squared_error criterion: train 0.8653255042024594 test 0.8202246568852396\n",
            "R^2 score using absolute_error criterion: train 0.8445112170974405 test 0.808451979535278\n"
          ]
        }
      ]
    },
    {
      "cell_type": "code",
      "source": [
        "# число \"деревьев\" в \"случайном лесу\"\n",
        "for n_estimators in range(100,1001,100):\n",
        "  print('R^2 score using n_estimators = {0}:'.format(n_estimators), end=' ')\n",
        "  fit_predict(X_train, X_test, y_train, y_test, max_depth=3, min_sample_split=15, criterion='squared_error', n_estimators=n_estimators)"
      ],
      "metadata": {
        "colab": {
          "base_uri": "https://localhost:8080/"
        },
        "id": "383knQv1snr5",
        "outputId": "5c3f75c6-33f8-4de7-ba29-f0bf28860804"
      },
      "execution_count": null,
      "outputs": [
        {
          "output_type": "stream",
          "name": "stdout",
          "text": [
            "R^2 score using n_estimators = 100: train 0.868670595949344 test 0.805963129259725\n",
            "R^2 score using n_estimators = 200: train 0.871125508495563 test 0.826207539534323\n",
            "R^2 score using n_estimators = 300: train 0.8691887877304287 test 0.8244084814698269\n",
            "R^2 score using n_estimators = 400: train 0.8693791574563224 test 0.8273460328726295\n",
            "R^2 score using n_estimators = 500: train 0.8678719543228358 test 0.8278686848054366\n",
            "R^2 score using n_estimators = 600: train 0.870423430646478 test 0.828274003388735\n",
            "R^2 score using n_estimators = 700: train 0.869639025181843 test 0.8229310385655472\n",
            "R^2 score using n_estimators = 800: train 0.8701081489577429 test 0.8258928308913418\n",
            "R^2 score using n_estimators = 900: train 0.8701290473186837 test 0.8262596896339294\n",
            "R^2 score using n_estimators = 1000: train 0.8698412476228123 test 0.8237673493785913\n"
          ]
        }
      ]
    },
    {
      "cell_type": "code",
      "source": [
        "model2 = RandomForestRegressor(criterion='squared_error', n_estimators=300, max_depth=3, random_state=5, min_samples_split=15)\n",
        "\n",
        "model2.fit(X_train, y_train)"
      ],
      "metadata": {
        "colab": {
          "base_uri": "https://localhost:8080/"
        },
        "id": "PIQ9hTX4s2mB",
        "outputId": "a37f4ccc-1956-4d25-d3ae-f3af97cd3b8d"
      },
      "execution_count": null,
      "outputs": [
        {
          "output_type": "execute_result",
          "data": {
            "text/plain": [
              "RandomForestRegressor(max_depth=3, min_samples_split=15, n_estimators=300,\n",
              "                      random_state=5)"
            ]
          },
          "metadata": {},
          "execution_count": 24
        }
      ]
    },
    {
      "cell_type": "code",
      "source": [
        "y_train_pred2=model2.predict(X_train)\n",
        "y_test_pred2=model2.predict(X_test)\n",
        "\n",
        "print('R2 train:', r2(y_train, y_train_pred2))\n",
        "print('R2 test:', r2(y_test, y_test_pred2))"
      ],
      "metadata": {
        "id": "qB9jxAcKs98x",
        "outputId": "d4e9f17b-35fa-43ab-c936-960afabbab2f",
        "colab": {
          "base_uri": "https://localhost:8080/"
        }
      },
      "execution_count": null,
      "outputs": [
        {
          "output_type": "stream",
          "name": "stdout",
          "text": [
            "R2 train: 0.8685861956584837\n",
            "R2 test: 0.8248676153984816\n"
          ]
        }
      ]
    }
  ]
}